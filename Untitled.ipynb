{
 "cells": [
  {
   "cell_type": "code",
   "execution_count": 12,
   "id": "4f1a63ad",
   "metadata": {},
   "outputs": [],
   "source": [
    "def get_requirements():\n",
    "    requirement_list = []\n",
    "    file_path = 'requirements.txt'\n",
    "    with open(file_path) as file:\n",
    "        requirement_list = file.readlines()\n",
    "        requirement_list = [require.replace('\\n','') for require in requirement_list]\n",
    "        if '- e. ' in requirement_list:\n",
    "            requirement_list.remove('- e. ')\n",
    "    return requirement_list"
   ]
  },
  {
   "cell_type": "code",
   "execution_count": 13,
   "id": "af9574f1",
   "metadata": {},
   "outputs": [
    {
     "data": {
      "text/plain": [
       "['pymongo==4.2.0', 'pandas']"
      ]
     },
     "execution_count": 13,
     "metadata": {},
     "output_type": "execute_result"
    }
   ],
   "source": [
    "get_requirements()"
   ]
  },
  {
   "cell_type": "code",
   "execution_count": 14,
   "id": "0d338574",
   "metadata": {},
   "outputs": [
    {
     "data": {
      "text/plain": [
       "'pello'"
      ]
     },
     "execution_count": 14,
     "metadata": {},
     "output_type": "execute_result"
    }
   ],
   "source": [
    "'hello'.replace('h','p')"
   ]
  },
  {
   "cell_type": "code",
   "execution_count": null,
   "id": "b4af8318",
   "metadata": {},
   "outputs": [],
   "source": []
  }
 ],
 "metadata": {
  "kernelspec": {
   "display_name": "Python 3 (ipykernel)",
   "language": "python",
   "name": "python3"
  },
  "language_info": {
   "codemirror_mode": {
    "name": "ipython",
    "version": 3
   },
   "file_extension": ".py",
   "mimetype": "text/x-python",
   "name": "python",
   "nbconvert_exporter": "python",
   "pygments_lexer": "ipython3",
   "version": "3.10.9"
  }
 },
 "nbformat": 4,
 "nbformat_minor": 5
}
